{
 "cells": [
  {
   "cell_type": "markdown",
   "id": "d58762bd",
   "metadata": {},
   "source": [
    "# Temperature\n",
    "Reference: [The Climate Issue](https://www.economist.com/weeklyedition/2019-09-21)"
   ]
  },
  {
   "cell_type": "markdown",
   "id": "799c3a2d",
   "metadata": {},
   "source": [
    "## Data processing"
   ]
  },
  {
   "cell_type": "code",
   "execution_count": 1,
   "id": "216471a8",
   "metadata": {},
   "outputs": [
    {
     "data": {
      "text/html": [
       "<div>\n",
       "<style scoped>\n",
       "    .dataframe tbody tr th:only-of-type {\n",
       "        vertical-align: middle;\n",
       "    }\n",
       "\n",
       "    .dataframe tbody tr th {\n",
       "        vertical-align: top;\n",
       "    }\n",
       "\n",
       "    .dataframe thead th {\n",
       "        text-align: right;\n",
       "    }\n",
       "</style>\n",
       "<table border=\"1\" class=\"dataframe\">\n",
       "  <thead>\n",
       "    <tr style=\"text-align: right;\">\n",
       "      <th></th>\n",
       "      <th>dt</th>\n",
       "      <th>LandAverageTemperature</th>\n",
       "      <th>LandAverageTemperatureUncertainty</th>\n",
       "      <th>LandMaxTemperature</th>\n",
       "      <th>LandMaxTemperatureUncertainty</th>\n",
       "      <th>LandMinTemperature</th>\n",
       "      <th>LandMinTemperatureUncertainty</th>\n",
       "      <th>LandAndOceanAverageTemperature</th>\n",
       "      <th>LandAndOceanAverageTemperatureUncertainty</th>\n",
       "    </tr>\n",
       "  </thead>\n",
       "  <tbody>\n",
       "    <tr>\n",
       "      <th>0</th>\n",
       "      <td>1750-01-01</td>\n",
       "      <td>3.034</td>\n",
       "      <td>3.574</td>\n",
       "      <td>NaN</td>\n",
       "      <td>NaN</td>\n",
       "      <td>NaN</td>\n",
       "      <td>NaN</td>\n",
       "      <td>NaN</td>\n",
       "      <td>NaN</td>\n",
       "    </tr>\n",
       "    <tr>\n",
       "      <th>1</th>\n",
       "      <td>1750-02-01</td>\n",
       "      <td>3.083</td>\n",
       "      <td>3.702</td>\n",
       "      <td>NaN</td>\n",
       "      <td>NaN</td>\n",
       "      <td>NaN</td>\n",
       "      <td>NaN</td>\n",
       "      <td>NaN</td>\n",
       "      <td>NaN</td>\n",
       "    </tr>\n",
       "    <tr>\n",
       "      <th>2</th>\n",
       "      <td>1750-03-01</td>\n",
       "      <td>5.626</td>\n",
       "      <td>3.076</td>\n",
       "      <td>NaN</td>\n",
       "      <td>NaN</td>\n",
       "      <td>NaN</td>\n",
       "      <td>NaN</td>\n",
       "      <td>NaN</td>\n",
       "      <td>NaN</td>\n",
       "    </tr>\n",
       "    <tr>\n",
       "      <th>3</th>\n",
       "      <td>1750-04-01</td>\n",
       "      <td>8.490</td>\n",
       "      <td>2.451</td>\n",
       "      <td>NaN</td>\n",
       "      <td>NaN</td>\n",
       "      <td>NaN</td>\n",
       "      <td>NaN</td>\n",
       "      <td>NaN</td>\n",
       "      <td>NaN</td>\n",
       "    </tr>\n",
       "    <tr>\n",
       "      <th>4</th>\n",
       "      <td>1750-05-01</td>\n",
       "      <td>11.573</td>\n",
       "      <td>2.072</td>\n",
       "      <td>NaN</td>\n",
       "      <td>NaN</td>\n",
       "      <td>NaN</td>\n",
       "      <td>NaN</td>\n",
       "      <td>NaN</td>\n",
       "      <td>NaN</td>\n",
       "    </tr>\n",
       "  </tbody>\n",
       "</table>\n",
       "</div>"
      ],
      "text/plain": [
       "           dt  LandAverageTemperature  LandAverageTemperatureUncertainty  \\\n",
       "0  1750-01-01                   3.034                              3.574   \n",
       "1  1750-02-01                   3.083                              3.702   \n",
       "2  1750-03-01                   5.626                              3.076   \n",
       "3  1750-04-01                   8.490                              2.451   \n",
       "4  1750-05-01                  11.573                              2.072   \n",
       "\n",
       "   LandMaxTemperature  LandMaxTemperatureUncertainty  LandMinTemperature  \\\n",
       "0                 NaN                            NaN                 NaN   \n",
       "1                 NaN                            NaN                 NaN   \n",
       "2                 NaN                            NaN                 NaN   \n",
       "3                 NaN                            NaN                 NaN   \n",
       "4                 NaN                            NaN                 NaN   \n",
       "\n",
       "   LandMinTemperatureUncertainty  LandAndOceanAverageTemperature  \\\n",
       "0                            NaN                             NaN   \n",
       "1                            NaN                             NaN   \n",
       "2                            NaN                             NaN   \n",
       "3                            NaN                             NaN   \n",
       "4                            NaN                             NaN   \n",
       "\n",
       "   LandAndOceanAverageTemperatureUncertainty  \n",
       "0                                        NaN  \n",
       "1                                        NaN  \n",
       "2                                        NaN  \n",
       "3                                        NaN  \n",
       "4                                        NaN  "
      ]
     },
     "execution_count": 1,
     "metadata": {},
     "output_type": "execute_result"
    }
   ],
   "source": [
    "import pandas as pd\n",
    "\n",
    "# Read the file\n",
    "df = pd.read_csv('GlobalTemperatures.csv')\n",
    "df.head()"
   ]
  },
  {
   "cell_type": "code",
   "execution_count": 2,
   "id": "1746620d",
   "metadata": {},
   "outputs": [
    {
     "data": {
      "text/html": [
       "<div>\n",
       "<style scoped>\n",
       "    .dataframe tbody tr th:only-of-type {\n",
       "        vertical-align: middle;\n",
       "    }\n",
       "\n",
       "    .dataframe tbody tr th {\n",
       "        vertical-align: top;\n",
       "    }\n",
       "\n",
       "    .dataframe thead th {\n",
       "        text-align: right;\n",
       "    }\n",
       "</style>\n",
       "<table border=\"1\" class=\"dataframe\">\n",
       "  <thead>\n",
       "    <tr style=\"text-align: right;\">\n",
       "      <th></th>\n",
       "      <th>Date</th>\n",
       "      <th>Temp</th>\n",
       "    </tr>\n",
       "  </thead>\n",
       "  <tbody>\n",
       "    <tr>\n",
       "      <th>0</th>\n",
       "      <td>1750-01-01</td>\n",
       "      <td>3.034</td>\n",
       "    </tr>\n",
       "    <tr>\n",
       "      <th>1</th>\n",
       "      <td>1750-02-01</td>\n",
       "      <td>3.083</td>\n",
       "    </tr>\n",
       "    <tr>\n",
       "      <th>2</th>\n",
       "      <td>1750-03-01</td>\n",
       "      <td>5.626</td>\n",
       "    </tr>\n",
       "    <tr>\n",
       "      <th>3</th>\n",
       "      <td>1750-04-01</td>\n",
       "      <td>8.490</td>\n",
       "    </tr>\n",
       "    <tr>\n",
       "      <th>4</th>\n",
       "      <td>1750-05-01</td>\n",
       "      <td>11.573</td>\n",
       "    </tr>\n",
       "  </tbody>\n",
       "</table>\n",
       "</div>"
      ],
      "text/plain": [
       "         Date    Temp\n",
       "0  1750-01-01   3.034\n",
       "1  1750-02-01   3.083\n",
       "2  1750-03-01   5.626\n",
       "3  1750-04-01   8.490\n",
       "4  1750-05-01  11.573"
      ]
     },
     "execution_count": 2,
     "metadata": {},
     "output_type": "execute_result"
    }
   ],
   "source": [
    "# Drop keep date and temperature, and rename\n",
    "df = df[['dt', 'LandAverageTemperature']].rename(columns={'dt': 'Date', 'LandAverageTemperature': 'Temp'})\n",
    "df.head()"
   ]
  },
  {
   "cell_type": "code",
   "execution_count": 3,
   "id": "6255542b",
   "metadata": {},
   "outputs": [
    {
     "name": "stdout",
     "output_type": "stream",
     "text": [
      "object\n",
      "float64\n"
     ]
    }
   ],
   "source": [
    "# Check datatype of the two columns\n",
    "print(df.Date.dtype)\n",
    "print(df.Temp.dtype)"
   ]
  },
  {
   "cell_type": "code",
   "execution_count": 4,
   "id": "0d5e1d7c",
   "metadata": {},
   "outputs": [
    {
     "data": {
      "text/html": [
       "<div>\n",
       "<style scoped>\n",
       "    .dataframe tbody tr th:only-of-type {\n",
       "        vertical-align: middle;\n",
       "    }\n",
       "\n",
       "    .dataframe tbody tr th {\n",
       "        vertical-align: top;\n",
       "    }\n",
       "\n",
       "    .dataframe thead th {\n",
       "        text-align: right;\n",
       "    }\n",
       "</style>\n",
       "<table border=\"1\" class=\"dataframe\">\n",
       "  <thead>\n",
       "    <tr style=\"text-align: right;\">\n",
       "      <th></th>\n",
       "      <th>Date</th>\n",
       "      <th>Temp</th>\n",
       "    </tr>\n",
       "  </thead>\n",
       "  <tbody>\n",
       "    <tr>\n",
       "      <th>0</th>\n",
       "      <td>1750-01-01</td>\n",
       "      <td>3.034</td>\n",
       "    </tr>\n",
       "    <tr>\n",
       "      <th>1</th>\n",
       "      <td>1750-02-01</td>\n",
       "      <td>3.083</td>\n",
       "    </tr>\n",
       "    <tr>\n",
       "      <th>2</th>\n",
       "      <td>1750-03-01</td>\n",
       "      <td>5.626</td>\n",
       "    </tr>\n",
       "    <tr>\n",
       "      <th>3</th>\n",
       "      <td>1750-04-01</td>\n",
       "      <td>8.490</td>\n",
       "    </tr>\n",
       "    <tr>\n",
       "      <th>4</th>\n",
       "      <td>1750-05-01</td>\n",
       "      <td>11.573</td>\n",
       "    </tr>\n",
       "  </tbody>\n",
       "</table>\n",
       "</div>"
      ],
      "text/plain": [
       "        Date    Temp\n",
       "0 1750-01-01   3.034\n",
       "1 1750-02-01   3.083\n",
       "2 1750-03-01   5.626\n",
       "3 1750-04-01   8.490\n",
       "4 1750-05-01  11.573"
      ]
     },
     "execution_count": 4,
     "metadata": {},
     "output_type": "execute_result"
    }
   ],
   "source": [
    "# Convert date to datetime\n",
    "df['Date'] = pd.to_datetime(df['Date'])\n",
    "df.head()"
   ]
  },
  {
   "cell_type": "code",
   "execution_count": 5,
   "id": "22ced282",
   "metadata": {},
   "outputs": [
    {
     "data": {
      "text/html": [
       "<div>\n",
       "<style scoped>\n",
       "    .dataframe tbody tr th:only-of-type {\n",
       "        vertical-align: middle;\n",
       "    }\n",
       "\n",
       "    .dataframe tbody tr th {\n",
       "        vertical-align: top;\n",
       "    }\n",
       "\n",
       "    .dataframe thead th {\n",
       "        text-align: right;\n",
       "    }\n",
       "</style>\n",
       "<table border=\"1\" class=\"dataframe\">\n",
       "  <thead>\n",
       "    <tr style=\"text-align: right;\">\n",
       "      <th></th>\n",
       "      <th>Date</th>\n",
       "      <th>Temp</th>\n",
       "    </tr>\n",
       "  </thead>\n",
       "  <tbody>\n",
       "    <tr>\n",
       "      <th>0</th>\n",
       "      <td>1835</td>\n",
       "      <td>7.392500</td>\n",
       "    </tr>\n",
       "    <tr>\n",
       "      <th>1</th>\n",
       "      <td>1836</td>\n",
       "      <td>7.695833</td>\n",
       "    </tr>\n",
       "    <tr>\n",
       "      <th>2</th>\n",
       "      <td>1837</td>\n",
       "      <td>7.375667</td>\n",
       "    </tr>\n",
       "    <tr>\n",
       "      <th>3</th>\n",
       "      <td>1838</td>\n",
       "      <td>7.514917</td>\n",
       "    </tr>\n",
       "    <tr>\n",
       "      <th>4</th>\n",
       "      <td>1839</td>\n",
       "      <td>7.632250</td>\n",
       "    </tr>\n",
       "  </tbody>\n",
       "</table>\n",
       "</div>"
      ],
      "text/plain": [
       "   Date      Temp\n",
       "0  1835  7.392500\n",
       "1  1836  7.695833\n",
       "2  1837  7.375667\n",
       "3  1838  7.514917\n",
       "4  1839  7.632250"
      ]
     },
     "execution_count": 5,
     "metadata": {},
     "output_type": "execute_result"
    }
   ],
   "source": [
    "# Group df by year, and compute average temperature of each year\n",
    "df = df.groupby(df.Date.dt.year).mean().reset_index()\n",
    "\n",
    "# Select data starting from 1835\n",
    "df = df[df['Date'] >= 1835].reset_index(drop=True)\n",
    "df.head()"
   ]
  },
  {
   "cell_type": "markdown",
   "id": "226c3283",
   "metadata": {},
   "source": [
    "## Data visualization"
   ]
  },
  {
   "cell_type": "code",
   "execution_count": 6,
   "id": "914e83e5",
   "metadata": {},
   "outputs": [],
   "source": [
    "import matplotlib.pyplot as plt\n",
    "from matplotlib.cm import get_cmap\n",
    "from matplotlib.colors import Normalize\n",
    "\n",
    "%matplotlib inline"
   ]
  },
  {
   "cell_type": "code",
   "execution_count": 7,
   "id": "0829c9bc",
   "metadata": {},
   "outputs": [],
   "source": [
    "# Get RdBu_r cmap\n",
    "color = get_cmap('RdBu_r')\n",
    "\n",
    "# Create a Normalize instance\n",
    "# Adjust vmin and vmax by 0.1, to show more darker colors\n",
    "norm = Normalize(df['Temp'].min()+.1, df['Temp'].max()-.1, clip=True)"
   ]
  },
  {
   "cell_type": "code",
   "execution_count": 8,
   "id": "69220ed6",
   "metadata": {},
   "outputs": [
    {
     "data": {
      "text/plain": [
       "Text(0.02, 0.02, 'Created by H | Data: Kaggle')"
      ]
     },
     "execution_count": 8,
     "metadata": {},
     "output_type": "execute_result"
    },
    {
     "data": {
      "image/png": "[encoded data removed]",
      "text/plain": [
       "<Figure size 720x720 with 1 Axes>"
      ]
     },
     "metadata": {
      "needs_background": "dark"
     },
     "output_type": "display_data"
    }
   ],
   "source": [
    "# Set font to serif\n",
    "plt.rcParams['font.family'] = 'serif'\n",
    "\n",
    "# Set fontweight to bold\n",
    "plt.rcParams['font.weight'] = 'bold'\n",
    "\n",
    "# Create a fig\n",
    "fig = plt.figure(figsize=(10, 10))\n",
    "\n",
    "# Assign axis to ax\n",
    "ax = fig.gca()\n",
    "\n",
    "# Loop through all rows in df\n",
    "for d, t in zip(df.Date, df.Temp):\n",
    "    \n",
    "    # Plot vertical line\n",
    "    # Get color from cmap with normalized temperature\n",
    "    plt.axvline(d, color=color(norm(t)), linewidth=5, zorder=-1)\n",
    "\n",
    "# Turn top, left and right borders\n",
    "ax.spines['top'].set(visible=True)\n",
    "ax.spines['left'].set(visible=True)\n",
    "ax.spines['right'].set(visible=True)\n",
    "\n",
    "# Turn of bottom border\n",
    "ax.spines['bottom'].set(visible=True, position='center', color='w', linewidth=2)\n",
    "\n",
    "# Remove xticks, set label color, and lablel font size\n",
    "ax.tick_params(axis='x', bottom=False, labelcolor='w', labelsize=18)\n",
    "\n",
    "# Remove yticks and ticklabels\n",
    "ax.tick_params(axis='y', left=False, labelleft=False)\n",
    "\n",
    "# Set xticklabels\n",
    "ax.set_xticks([i for i in range(1850, 2001, 50)])\n",
    "\n",
    "# Set limit of x axis\n",
    "ax.set_xlim(df.Date.min(), df.Date.max())\n",
    "\n",
    "# Reference data source\n",
    "ax.text(.02, .02, 'Created by H | Data: Kaggle', \n",
    "        transform=ax.transAxes, color='w', horizontalalignment='left', fontsize=12)"
   ]
  },
  {
   "cell_type": "code",
   "execution_count": 9,
   "id": "153ae831",
   "metadata": {},
   "outputs": [],
   "source": [
    "# Save fig\n",
    "fig.savefig('temperature', dpi=300, bbox_inches='tight')"
   ]
  }
 ],
 "metadata": {
  "kernelspec": {
   "display_name": "Python 3 (ipykernel)",
   "language": "python",
   "name": "python3"
  },
  "language_info": {
   "codemirror_mode": {
    "name": "ipython",
    "version": 3
   },
   "file_extension": ".py",
   "mimetype": "text/x-python",
   "name": "python",
   "nbconvert_exporter": "python",
   "pygments_lexer": "ipython3",
   "version": "3.9.12"
  }
 },
 "nbformat": 4,
 "nbformat_minor": 5
}
