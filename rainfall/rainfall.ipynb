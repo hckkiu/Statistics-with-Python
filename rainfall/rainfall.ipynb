{
 "cells": [
  {
   "cell_type": "code",
   "execution_count": 1,
   "id": "519978dc",
   "metadata": {},
   "outputs": [],
   "source": [
    "import pandas as pd\n",
    "import numpy as np\n",
    "import datetime"
   ]
  },
  {
   "cell_type": "code",
   "execution_count": 2,
   "id": "a15f236e",
   "metadata": {},
   "outputs": [
    {
     "data": {
      "text/html": [
       "<div>\n",
       "<style scoped>\n",
       "    .dataframe tbody tr th:only-of-type {\n",
       "        vertical-align: middle;\n",
       "    }\n",
       "\n",
       "    .dataframe tbody tr th {\n",
       "        vertical-align: top;\n",
       "    }\n",
       "\n",
       "    .dataframe thead th {\n",
       "        text-align: right;\n",
       "    }\n",
       "</style>\n",
       "<table border=\"1\" class=\"dataframe\">\n",
       "  <thead>\n",
       "    <tr style=\"text-align: right;\">\n",
       "      <th></th>\n",
       "      <th>年/Year</th>\n",
       "      <th>月/Month</th>\n",
       "      <th>日/Day</th>\n",
       "      <th>數值/Value</th>\n",
       "      <th>數據完整性/data Completeness</th>\n",
       "    </tr>\n",
       "  </thead>\n",
       "  <tbody>\n",
       "    <tr>\n",
       "      <th>0</th>\n",
       "      <td>1884</td>\n",
       "      <td>3</td>\n",
       "      <td>1</td>\n",
       "      <td>0.0</td>\n",
       "      <td>C</td>\n",
       "    </tr>\n",
       "    <tr>\n",
       "      <th>1</th>\n",
       "      <td>1884</td>\n",
       "      <td>3</td>\n",
       "      <td>2</td>\n",
       "      <td>0.0</td>\n",
       "      <td>C</td>\n",
       "    </tr>\n",
       "    <tr>\n",
       "      <th>2</th>\n",
       "      <td>1884</td>\n",
       "      <td>3</td>\n",
       "      <td>3</td>\n",
       "      <td>0.0</td>\n",
       "      <td>C</td>\n",
       "    </tr>\n",
       "    <tr>\n",
       "      <th>3</th>\n",
       "      <td>1884</td>\n",
       "      <td>3</td>\n",
       "      <td>4</td>\n",
       "      <td>0.0</td>\n",
       "      <td>C</td>\n",
       "    </tr>\n",
       "    <tr>\n",
       "      <th>4</th>\n",
       "      <td>1884</td>\n",
       "      <td>3</td>\n",
       "      <td>5</td>\n",
       "      <td>0.0</td>\n",
       "      <td>C</td>\n",
       "    </tr>\n",
       "  </tbody>\n",
       "</table>\n",
       "</div>"
      ],
      "text/plain": [
       "   年/Year  月/Month  日/Day 數值/Value 數據完整性/data Completeness\n",
       "0    1884        3      1      0.0                       C\n",
       "1    1884        3      2      0.0                       C\n",
       "2    1884        3      3      0.0                       C\n",
       "3    1884        3      4      0.0                       C\n",
       "4    1884        3      5      0.0                       C"
      ]
     },
     "execution_count": 2,
     "metadata": {},
     "output_type": "execute_result"
    }
   ],
   "source": [
    "df = pd.read_csv(f'https://data.weather.gov.hk/weatherAPI/cis/csvfile/HKO/ALL/daily_HKO_RF_ALL.csv', \n",
    "                 skiprows=2, skipfooter=4, engine='python')\n",
    "df.head()"
   ]
  },
  {
   "cell_type": "code",
   "execution_count": 3,
   "id": "a4caa4f6",
   "metadata": {},
   "outputs": [
    {
     "data": {
      "text/html": [
       "<div>\n",
       "<style scoped>\n",
       "    .dataframe tbody tr th:only-of-type {\n",
       "        vertical-align: middle;\n",
       "    }\n",
       "\n",
       "    .dataframe tbody tr th {\n",
       "        vertical-align: top;\n",
       "    }\n",
       "\n",
       "    .dataframe thead th {\n",
       "        text-align: right;\n",
       "    }\n",
       "</style>\n",
       "<table border=\"1\" class=\"dataframe\">\n",
       "  <thead>\n",
       "    <tr style=\"text-align: right;\">\n",
       "      <th></th>\n",
       "      <th>Year</th>\n",
       "      <th>Month</th>\n",
       "      <th>Day</th>\n",
       "      <th>Value</th>\n",
       "      <th>Completeness</th>\n",
       "    </tr>\n",
       "  </thead>\n",
       "  <tbody>\n",
       "    <tr>\n",
       "      <th>0</th>\n",
       "      <td>1884</td>\n",
       "      <td>3</td>\n",
       "      <td>1</td>\n",
       "      <td>0.0</td>\n",
       "      <td>C</td>\n",
       "    </tr>\n",
       "    <tr>\n",
       "      <th>1</th>\n",
       "      <td>1884</td>\n",
       "      <td>3</td>\n",
       "      <td>2</td>\n",
       "      <td>0.0</td>\n",
       "      <td>C</td>\n",
       "    </tr>\n",
       "    <tr>\n",
       "      <th>2</th>\n",
       "      <td>1884</td>\n",
       "      <td>3</td>\n",
       "      <td>3</td>\n",
       "      <td>0.0</td>\n",
       "      <td>C</td>\n",
       "    </tr>\n",
       "    <tr>\n",
       "      <th>3</th>\n",
       "      <td>1884</td>\n",
       "      <td>3</td>\n",
       "      <td>4</td>\n",
       "      <td>0.0</td>\n",
       "      <td>C</td>\n",
       "    </tr>\n",
       "    <tr>\n",
       "      <th>4</th>\n",
       "      <td>1884</td>\n",
       "      <td>3</td>\n",
       "      <td>5</td>\n",
       "      <td>0.0</td>\n",
       "      <td>C</td>\n",
       "    </tr>\n",
       "  </tbody>\n",
       "</table>\n",
       "</div>"
      ],
      "text/plain": [
       "   Year  Month  Day Value Completeness\n",
       "0  1884      3    1   0.0            C\n",
       "1  1884      3    2   0.0            C\n",
       "2  1884      3    3   0.0            C\n",
       "3  1884      3    4   0.0            C\n",
       "4  1884      3    5   0.0            C"
      ]
     },
     "execution_count": 3,
     "metadata": {},
     "output_type": "execute_result"
    }
   ],
   "source": [
    "df.columns = ['Year', 'Month', 'Day', 'Value', 'Completeness']\n",
    "df.head()"
   ]
  },
  {
   "cell_type": "code",
   "execution_count": 4,
   "id": "44a5fcdc",
   "metadata": {},
   "outputs": [
    {
     "name": "stdout",
     "output_type": "stream",
     "text": [
      "int64\n",
      "int64\n",
      "int64\n",
      "object\n"
     ]
    }
   ],
   "source": [
    "print(df['Year'].dtype)\n",
    "print(df['Month'].dtype)\n",
    "print(df['Day'].dtype)\n",
    "print(df['Value'].dtype)"
   ]
  },
  {
   "cell_type": "code",
   "execution_count": 5,
   "id": "724e0b30",
   "metadata": {},
   "outputs": [
    {
     "name": "stdout",
     "output_type": "stream",
     "text": [
      "1\n",
      "0\n",
      "6684\n"
     ]
    }
   ],
   "source": [
    "# Check for missing values\n",
    "print(len(df[df['Value'] == '***']))\n",
    "print(len(df[df['Value'] == '#']))\n",
    "print(len(df[df['Value'] == 'Trace']))"
   ]
  },
  {
   "cell_type": "code",
   "execution_count": 6,
   "id": "16fce657",
   "metadata": {},
   "outputs": [
    {
     "name": "stdout",
     "output_type": "stream",
     "text": [
      "0\n",
      "0\n"
     ]
    }
   ],
   "source": [
    "# Replace missing values with NaN\n",
    "df['Value'] = df['Value'].replace({'***': np.nan, 'Trace': np.nan})\n",
    "print(len(df[df['Value'] == '***']))\n",
    "print(len(df[df['Value'] == 'Trace']))"
   ]
  },
  {
   "cell_type": "code",
   "execution_count": 7,
   "id": "ec6e12ba",
   "metadata": {},
   "outputs": [
    {
     "data": {
      "text/html": [
       "<div>\n",
       "<style scoped>\n",
       "    .dataframe tbody tr th:only-of-type {\n",
       "        vertical-align: middle;\n",
       "    }\n",
       "\n",
       "    .dataframe tbody tr th {\n",
       "        vertical-align: top;\n",
       "    }\n",
       "\n",
       "    .dataframe thead th {\n",
       "        text-align: right;\n",
       "    }\n",
       "</style>\n",
       "<table border=\"1\" class=\"dataframe\">\n",
       "  <thead>\n",
       "    <tr style=\"text-align: right;\">\n",
       "      <th></th>\n",
       "      <th>Year</th>\n",
       "      <th>Month</th>\n",
       "      <th>Day</th>\n",
       "      <th>Value</th>\n",
       "      <th>Completeness</th>\n",
       "    </tr>\n",
       "  </thead>\n",
       "  <tbody>\n",
       "    <tr>\n",
       "      <th>0</th>\n",
       "      <td>1884</td>\n",
       "      <td>3</td>\n",
       "      <td>1</td>\n",
       "      <td>0.0</td>\n",
       "      <td>C</td>\n",
       "    </tr>\n",
       "    <tr>\n",
       "      <th>1</th>\n",
       "      <td>1884</td>\n",
       "      <td>3</td>\n",
       "      <td>2</td>\n",
       "      <td>0.0</td>\n",
       "      <td>C</td>\n",
       "    </tr>\n",
       "    <tr>\n",
       "      <th>2</th>\n",
       "      <td>1884</td>\n",
       "      <td>3</td>\n",
       "      <td>3</td>\n",
       "      <td>0.0</td>\n",
       "      <td>C</td>\n",
       "    </tr>\n",
       "    <tr>\n",
       "      <th>3</th>\n",
       "      <td>1884</td>\n",
       "      <td>3</td>\n",
       "      <td>4</td>\n",
       "      <td>0.0</td>\n",
       "      <td>C</td>\n",
       "    </tr>\n",
       "    <tr>\n",
       "      <th>4</th>\n",
       "      <td>1884</td>\n",
       "      <td>3</td>\n",
       "      <td>5</td>\n",
       "      <td>0.0</td>\n",
       "      <td>C</td>\n",
       "    </tr>\n",
       "  </tbody>\n",
       "</table>\n",
       "</div>"
      ],
      "text/plain": [
       "   Year  Month  Day  Value Completeness\n",
       "0  1884      3    1    0.0            C\n",
       "1  1884      3    2    0.0            C\n",
       "2  1884      3    3    0.0            C\n",
       "3  1884      3    4    0.0            C\n",
       "4  1884      3    5    0.0            C"
      ]
     },
     "execution_count": 7,
     "metadata": {},
     "output_type": "execute_result"
    }
   ],
   "source": [
    "# Convert value to numeric\n",
    "df['Value'] = pd.to_numeric(df['Value'])\n",
    "df.head()"
   ]
  },
  {
   "cell_type": "code",
   "execution_count": 8,
   "id": "4da88315",
   "metadata": {},
   "outputs": [
    {
     "data": {
      "text/html": [
       "<div>\n",
       "<style scoped>\n",
       "    .dataframe tbody tr th:only-of-type {\n",
       "        vertical-align: middle;\n",
       "    }\n",
       "\n",
       "    .dataframe tbody tr th {\n",
       "        vertical-align: top;\n",
       "    }\n",
       "\n",
       "    .dataframe thead th {\n",
       "        text-align: right;\n",
       "    }\n",
       "</style>\n",
       "<table border=\"1\" class=\"dataframe\">\n",
       "  <thead>\n",
       "    <tr style=\"text-align: right;\">\n",
       "      <th></th>\n",
       "      <th>Value</th>\n",
       "    </tr>\n",
       "    <tr>\n",
       "      <th>Year</th>\n",
       "      <th></th>\n",
       "    </tr>\n",
       "  </thead>\n",
       "  <tbody>\n",
       "    <tr>\n",
       "      <th>1884</th>\n",
       "      <td>141.9</td>\n",
       "    </tr>\n",
       "    <tr>\n",
       "      <th>1885</th>\n",
       "      <td>320.9</td>\n",
       "    </tr>\n",
       "    <tr>\n",
       "      <th>1886</th>\n",
       "      <td>342.3</td>\n",
       "    </tr>\n",
       "    <tr>\n",
       "      <th>1887</th>\n",
       "      <td>148.7</td>\n",
       "    </tr>\n",
       "    <tr>\n",
       "      <th>1888</th>\n",
       "      <td>215.2</td>\n",
       "    </tr>\n",
       "  </tbody>\n",
       "</table>\n",
       "</div>"
      ],
      "text/plain": [
       "      Value\n",
       "Year       \n",
       "1884  141.9\n",
       "1885  320.9\n",
       "1886  342.3\n",
       "1887  148.7\n",
       "1888  215.2"
      ]
     },
     "execution_count": 8,
     "metadata": {},
     "output_type": "execute_result"
    }
   ],
   "source": [
    "# Groupby year, and compute maximum value\n",
    "df = df.groupby('Year').agg({'Value': max})\n",
    "df.head()"
   ]
  },
  {
   "cell_type": "code",
   "execution_count": 9,
   "id": "56021147",
   "metadata": {},
   "outputs": [
    {
     "data": {
      "text/plain": [
       "Int64Index([1884, 1885, 1886, 1887, 1888, 1889, 1890, 1891, 1892, 1893,\n",
       "            ...\n",
       "            2013, 2014, 2015, 2016, 2017, 2018, 2019, 2020, 2021, 2022],\n",
       "           dtype='int64', name='Year', length=132)"
      ]
     },
     "execution_count": 9,
     "metadata": {},
     "output_type": "execute_result"
    }
   ],
   "source": [
    "# Check values of year\n",
    "df.index.unique()"
   ]
  },
  {
   "cell_type": "code",
   "execution_count": 10,
   "id": "d7ba47aa",
   "metadata": {},
   "outputs": [],
   "source": [
    "# Since values for 1940-1946 is missing, keep only year >= 1947\n",
    "df = df[df.index >= 1947]"
   ]
  },
  {
   "cell_type": "code",
   "execution_count": 11,
   "id": "a982f592",
   "metadata": {},
   "outputs": [
    {
     "name": "stdout",
     "output_type": "stream",
     "text": [
      "411.3\n",
      "71.9\n"
     ]
    }
   ],
   "source": [
    "# Check max and min values\n",
    "print(df.Value.max())\n",
    "print(df.Value.min())"
   ]
  },
  {
   "cell_type": "markdown",
   "id": "99d76539",
   "metadata": {},
   "source": [
    "## Data Visualization"
   ]
  },
  {
   "cell_type": "code",
   "execution_count": 12,
   "id": "ff9cd021",
   "metadata": {},
   "outputs": [],
   "source": [
    "import matplotlib.pyplot as plt\n",
    "from matplotlib.cm import get_cmap\n",
    "from matplotlib.colors import ListedColormap\n",
    "%matplotlib inline\n",
    "\n",
    "# Set font to serif\n",
    "plt.rcParams['font.family'] = 'serif'"
   ]
  },
  {
   "cell_type": "code",
   "execution_count": 13,
   "id": "632a4f80",
   "metadata": {},
   "outputs": [
    {
     "data": {
      "text/plain": [
       "Text(0.5, 0.08, 'Designed by H | Data: data.gov.hk')"
      ]
     },
     "execution_count": 13,
     "metadata": {},
     "output_type": "execute_result"
    },
    {
     "data": {
      "image/png": "[encoded data removed]",
      "text/plain": [
       "<Figure size 720x720 with 1 Axes>"
      ]
     },
     "metadata": {},
     "output_type": "display_data"
    }
   ],
   "source": [
    "# Create figure\n",
    "fig = plt.figure(figsize=(10, 10), facecolor='snow', tight_layout=True)\n",
    "# Assign axes to ax\n",
    "ax = plt.gca()\n",
    "\n",
    "# Set facecolor of ax\n",
    "ax.set_facecolor('snow')\n",
    "\n",
    "# Plot bars\n",
    "bars = ax.bar(df.index, df['Value'], width=.65, color='none')\n",
    "\n",
    "# Define new cmap based on 'ocean' cmap\n",
    "color = ListedColormap(get_cmap('ocean')(np.linspace(.83, .98, 256)))\n",
    "\n",
    "# Create linspace, and make it 2d\n",
    "grad = np.atleast_2d(np.linspace(0,1,256)).T\n",
    "\n",
    "# Loop through all bars\n",
    "for bar in bars:\n",
    "    \n",
    "    # Get xpos, ypos, width, and height of bar\n",
    "    x, y = bar.get_xy()\n",
    "    w, h = bar.get_width(), bar.get_height()\n",
    "    \n",
    "    # Plot `grad` linspace as image, i.e. applying gradient\n",
    "    # Set aspect to auto, keep the axis fixed\n",
    "    ax.imshow(grad, extent=(x, x+w, y, y+h), cmap=color, aspect='auto')\n",
    "\n",
    "# Set ylim and xlim\n",
    "ax.set_ylim(600, 0)\n",
    "ax.set_xlim(1943, 2026)\n",
    "\n",
    "# Set xticks\n",
    "ax.set_xticks([i for i in range(1950, 2021, 20)])\n",
    "\n",
    "# Move xaxis to the top\n",
    "ax.xaxis.tick_top()\n",
    "\n",
    "# Remove ticks and ytick labels\n",
    "ax.tick_params(axis='both', left=False, top=False, labelleft=False, labelsize=14)\n",
    "\n",
    "# Turn off all borders\n",
    "for a in ax.spines.values():\n",
    "    a.set_visible(False)\n",
    "\n",
    "# Add title\n",
    "ax.set_title('Maximum Rainfall in Hong Kong by Year (1947-2022)', y=0.1, fontsize=16, fontweight='bold')\n",
    "\n",
    "# Reference data\n",
    "ax.text(0.5, 0.08, 'Designed by H | Data: data.gov.hk', \n",
    "        fontsize=14, transform=fig.transFigure, horizontalalignment='center')"
   ]
  },
  {
   "cell_type": "code",
   "execution_count": 14,
   "id": "b012fabb",
   "metadata": {},
   "outputs": [],
   "source": [
    "# Save fig\n",
    "fig.savefig('rainfall', dpi=300, bbox_inches='tight')"
   ]
  }
 ],
 "metadata": {
  "kernelspec": {
   "display_name": "Python 3 (ipykernel)",
   "language": "python",
   "name": "python3"
  },
  "language_info": {
   "codemirror_mode": {
    "name": "ipython",
    "version": 3
   },
   "file_extension": ".py",
   "mimetype": "text/x-python",
   "name": "python",
   "nbconvert_exporter": "python",
   "pygments_lexer": "ipython3",
   "version": "3.9.12"
  }
 },
 "nbformat": 4,
 "nbformat_minor": 5
}
